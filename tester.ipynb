{
 "cells": [
  {
   "cell_type": "code",
   "execution_count": null,
   "metadata": {},
   "outputs": [],
   "source": [
    "import xarray as xr\n",
    "\n",
    "from clustering import *\n",
    "from radially_constrained_cluster import *"
   ]
  },
  {
   "cell_type": "code",
   "execution_count": null,
   "metadata": {},
   "outputs": [],
   "source": [
    "dataset_t2m = xr.open_mfdataset(r'C:\\Users\\ITJG104327\\Documents\\Venezia\\Dataset\\ERA5\\2m_temperature/*.nc').resample(time='1D').mean().rolling(time=15).mean()\n",
    "dataset_tp = xr.open_mfdataset(r'C:\\Users\\ITJG104327\\Documents\\Venezia\\Dataset\\ERA5\\total_precipitation/*.nc').resample(time='1D').sum().rolling(time=15).mean()"
   ]
  },
  {
   "cell_type": "code",
   "execution_count": null,
   "metadata": {},
   "outputs": [],
   "source": [
    "dataset_t2m = dataset_t2m.sel(latitude=slice(46, 45), longitude=slice(11, 12))\n",
    "dataset_t2m = dataset_t2m.groupby('time.dayofyear').mean()"
   ]
  },
  {
   "cell_type": "code",
   "execution_count": null,
   "metadata": {},
   "outputs": [],
   "source": [
    "dataset_tp = dataset_tp.sel(latitude=slice(46, 45), longitude=slice(11, 12))\n",
    "dataset_tp = dataset_tp.groupby('time.dayofyear').mean()"
   ]
  },
  {
   "cell_type": "code",
   "execution_count": null,
   "metadata": {},
   "outputs": [],
   "source": [
    "array_t2m = dataset_t2m.t2m.to_numpy()\n",
    "array_t2m = np.reshape(array_t2m, (array_t2m.shape[0], array_t2m.shape[1]*array_t2m.shape[2]))"
   ]
  },
  {
   "cell_type": "code",
   "execution_count": null,
   "metadata": {},
   "outputs": [],
   "source": [
    "array_tp = dataset_tp.tp.to_numpy()\n",
    "array_tp = np.reshape(array_tp, (array_tp.shape[0], array_tp.shape[1]*array_tp.shape[2]))"
   ]
  },
  {
   "cell_type": "code",
   "execution_count": null,
   "metadata": {},
   "outputs": [],
   "source": [
    "# concatenate the two arrays on columns\n",
    "array_tot = np.concatenate((array_t2m, array_tp), axis=1)"
   ]
  },
  {
   "cell_type": "code",
   "execution_count": null,
   "metadata": {},
   "outputs": [],
   "source": [
    "model = Radially_Constrained_Cluster(array_tot, 4, 400, \n",
    "                                1, True, 0.1, \n",
    "                                True, 20)\n",
    "\n",
    "model.fit()\n",
    "prediction = model.get_prediction()\n",
    "\n",
    "fig_learning = plt.figure(figsize = (15,6))\n",
    "plt.plot(model.error_story)\n",
    "plt.grid()\n",
    "plt.xlabel('N° iterations')\n",
    "plt.ylabel('Within-Cluster Sum of Square')"
   ]
  },
  {
   "cell_type": "code",
   "execution_count": null,
   "metadata": {},
   "outputs": [],
   "source": [
    "cc = model.get_centroids()  \n",
    "bb = model.breakpoints"
   ]
  },
  {
   "cell_type": "code",
   "execution_count": null,
   "metadata": {},
   "outputs": [],
   "source": [
    "fig_clustered_field, ax = plt.subplots(figsize = (15,6))\n",
    "\n",
    "dataset_t2m.t2m.mean(['latitude', 'longitude']).plot(ax=ax)\n",
    "for b in bb:\n",
    "    ax.axvline(b, color='k', linestyle='--', linewidth=1)\n",
    "\n",
    "ax.set_xticks([0,31,60,91,121,152,182,213,244,274,305,335,366],['jan','feb','mar','apr','may','jun','jul','aug','sep','oct','nov','dec','jan'])\n",
    "\n",
    "fig_clustered_field, ax = plt.subplots(figsize = (15,6))\n",
    "\n",
    "dataset_tp.tp.mean(['latitude', 'longitude']).plot(ax=ax)\n",
    "for b in bb:\n",
    "    ax.axvline(b, color='k', linestyle='--', linewidth=1)\n",
    "\n",
    "ax.set_xticks([0,31,60,91,121,152,182,213,244,274,305,335,366],['jan','feb','mar','apr','may','jun','jul','aug','sep','oct','nov','dec','jan'])"
   ]
  }
 ],
 "metadata": {
  "kernelspec": {
   "display_name": "CC_py",
   "language": "python",
   "name": "python3"
  },
  "language_info": {
   "codemirror_mode": {
    "name": "ipython",
    "version": 3
   },
   "file_extension": ".py",
   "mimetype": "text/x-python",
   "name": "python",
   "nbconvert_exporter": "python",
   "pygments_lexer": "ipython3",
   "version": "3.10.12"
  }
 },
 "nbformat": 4,
 "nbformat_minor": 2
}
