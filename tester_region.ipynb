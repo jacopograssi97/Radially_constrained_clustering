{
 "cells": [
  {
   "cell_type": "markdown",
   "metadata": {},
   "source": [
    "# Tester notebook for RCC"
   ]
  },
  {
   "cell_type": "code",
   "execution_count": null,
   "metadata": {},
   "outputs": [],
   "source": [
    "import xarray as xr\n",
    "import rioxarray\n",
    "import matplotlib.pyplot as plt\n",
    "import geopandas as gpd\n",
    "from shapely.geometry import mapping\n",
    "from tqdm import tqdm\n",
    "import pandas as pd\n",
    "\n",
    "#from clustering import *\n",
    "from radially_constrained_cluster import *"
   ]
  },
  {
   "cell_type": "code",
   "execution_count": null,
   "metadata": {},
   "outputs": [],
   "source": [
    "italy_region = gpd.read_file('/work/users/jgrassi/data/italy.shp')\n",
    "\n",
    "def plot_map(geo_df, column_to_color, cmap, vmin, vmax, title):\n",
    "\n",
    "    # Defining the figure\n",
    "    fig, ax = plt.subplots(1,1, figsize=(6,6)) \n",
    "\n",
    "    \n",
    "    # Plot the map\n",
    "    cax = geo_df.plot(column=column_to_color, cmap=cmap, ax=ax, legend=False, vmin=vmin, vmax=vmax)\n",
    "\n",
    "    # Adding regional boundaries\n",
    "    italy_region.boundary.plot(color = 'k', linewidth = 0.5, label = 'Regioni', ax=ax)\n",
    "\n",
    "    # Customize the axes\n",
    "    ax.spines['top'].set_visible(False)\n",
    "    ax.spines['right'].set_visible(False)\n",
    "    ax.set_xlabel('Longitude [°E]')\n",
    "    ax.set_ylabel('Latitude [°N]')\n",
    "    ax.grid(alpha=0.3)\n",
    "\n",
    "    # Creating a custom colorbar\n",
    "    sm = plt.cm.ScalarMappable(cmap=cmap, norm=plt.Normalize(vmin=vmin, vmax=vmax))\n",
    "    sm._A = []\n",
    "    cbar = fig.colorbar(sm, ax=ax)\n",
    "\n",
    "    ax.set_title(title)\n",
    "\n",
    "    return ax, fig, cbar"
   ]
  },
  {
   "cell_type": "code",
   "execution_count": null,
   "metadata": {},
   "outputs": [],
   "source": [
    "data_path = '/work/users/jgrassi/data/ERA5'\n",
    "\n",
    "data_obj = []\n",
    "\n",
    "for files in ['2m_temperature/temperature_19*.nc', 'total_precipitation/precipitation_19*.nc']:\n",
    "\n",
    "    obj = xr.open_mfdataset(rf'{data_path}/{files}')\n",
    "    obj = obj.convert_calendar('noleap').rolling(time=15*24, center=True).mean().load()\n",
    "\n",
    "    obj.rio.set_spatial_dims(x_dim=\"longitude\", y_dim=\"latitude\", inplace=True)\n",
    "    obj.rio.write_crs(\"epsg:4326\", inplace=True)\n",
    "\n",
    "    data_obj.append(obj)"
   ]
  },
  {
   "cell_type": "code",
   "execution_count": null,
   "metadata": {},
   "outputs": [],
   "source": [
    "italy_region = gpd.read_file('/work/users/jgrassi/data/italy.shp')\n",
    "\n",
    "\n",
    "# periods = [['1979','1982'],['1982','1985'],['1985','1988'],['1988','1991'],['1991','1994'],['1994','1997'],['1997','2000'],['2000','2003'],['2003','2006'],['2006','2009']]ù\n",
    "periods = [['1979','1982'],['1982','1985'],['1985','1988'],['1988','1991'],['1991','1994'],['1994','1997'],['1997','2000']]\n",
    "\n",
    "bp_macro = []\n",
    "tot = []\n",
    "all_arrays = []\n",
    "\n",
    "for j in tqdm(range(20)):\n",
    "\n",
    "    gpp = italy_region.loc[j]\n",
    "    new = gpd.GeoDataFrame(gpp)\n",
    "    new.columns = ['geometry']\n",
    "    gdf = new.set_geometry('geometry')\n",
    "\n",
    "\n",
    "    arrays = []\n",
    "\n",
    "    for obj, var in zip(data_obj, ['t2m','tp','sfcWind']):\n",
    "\n",
    "        for p in periods:\n",
    "\n",
    "            obj_rast = obj.sel(time=slice(p[0], p[1]))\n",
    "            obj_rast = obj_rast.groupby('time.dayofyear').mean()\n",
    "            obj_rast = obj_rast.rio.clip(gdf.geometry.apply(mapping), gdf.crs, drop=True)\n",
    "\n",
    "            obj_array = obj_rast[var].to_numpy()\n",
    "            obj_array = np.reshape(obj_array, (365, obj_array.shape[1]*obj_array.shape[2]))\n",
    "            obj_array = obj_array[:,~np.all(np.isnan(obj_array), axis=0)]\n",
    "            #obj_array = (obj_array - obj_array.min(axis=0)) / (obj_array.max(axis=0) - obj_array.min(axis=0))\n",
    "            obj_array = (obj_array - obj_array.mean(axis=0)) / (obj_array.std(axis=0))\n",
    "            arrays.append(obj_array)\n",
    "\n",
    "\n",
    "\n",
    "    # concatenate the two arrays on columns\n",
    "    array_tot = np.concatenate((arrays), axis=1)\n",
    "    \n",
    "    #array_tot = array_tot[:,~np.all(np.isnan(array_tot), axis=0)]\n",
    "    print(array_tot.shape)\n",
    "\n",
    "    # min-max normalization on axis 1\n",
    "    #array_tot = (array_tot - array_tot.min(axis=1).reshape(-1, 1)) / (array_tot.max(axis=1) - array_tot.min(axis=1)).reshape(-1, 1)\n",
    "\n",
    "\n",
    "    model = Radially_Constrained_Cluster(data_to_cluster = array_tot,\n",
    "                                     n_seas = 4,\n",
    "                                     n_iter = 5000,\n",
    "                                     learning_rate = 2,\n",
    "                                     min_len = 60,\n",
    "                                     scheduling_factor = 1,\n",
    "                                     starting_bp = [60, 152, 244, 335],\n",
    "                                     mode = 'single')\n",
    "\n",
    "    model.fit()\n",
    "\n",
    "    fig_learning = plt.figure(figsize = (7,3))\n",
    "    plt.plot(model.error_history)\n",
    "    plt.grid()\n",
    "    plt.title(p)\n",
    "    plt.xlabel('N° iterations')\n",
    "    plt.ylabel('Within-Cluster Sum of Square')\n",
    "\n",
    "    gdf['spring_onset'] = model.breakpoints[0]\n",
    "    gdf['summer_onset'] = model.breakpoints[1]\n",
    "    gdf['autumn_onset'] = model.breakpoints[2]\n",
    "    gdf['winter_onset'] = model.breakpoints[3]\n",
    "\n",
    "    gdf['spring_lenght'] = model.breakpoints[1] -model.breakpoints[0]\n",
    "    gdf['summer_lenght'] = model.breakpoints[2] -model.breakpoints[1]\n",
    "    gdf['autumn_lenght'] = model.breakpoints[3] -model.breakpoints[2]\n",
    "    gdf['winter_lenght'] = 365 - model.breakpoints[3] + model.breakpoints[0]\n",
    "\n",
    "    tot.append(gdf)\n",
    "    all_arrays.append(array_tot)\n",
    "\n",
    "tot = pd.concat(tot)"
   ]
  },
  {
   "cell_type": "code",
   "execution_count": null,
   "metadata": {},
   "outputs": [],
   "source": [
    "for t in all_arrays:\n",
    "    plt.figure()\n",
    "    plt.imshow(t)\n",
    "    plt.colorbar()"
   ]
  },
  {
   "cell_type": "code",
   "execution_count": null,
   "metadata": {},
   "outputs": [],
   "source": [
    "for onset, title, cmap in zip(['spring_onset','summer_onset','autumn_onset','winter_onset'],\n",
    "                            ['Spring onset','Summer onset','Autumn onset','Winter_onset'],\n",
    "                            ['spring', 'summer','autumn','winter']):\n",
    "    \n",
    "    fig, ax, cbar = plot_map(tot, onset, cmap, tot[onset].min(), tot[onset].max(), title)\n",
    "    cbar.set_ticks(ticks=[0,31,60,91,121,152,182,213,244,274,305,335, 365],labels=['jan','feb','mar','apr','may','jun','jul','aug','sep','oct','nov','dec','jan'])\n",
    "\n"
   ]
  },
  {
   "cell_type": "code",
   "execution_count": null,
   "metadata": {},
   "outputs": [],
   "source": [
    "for lenght, title, cmap in zip(['spring_lenght','summer_lenght','autumn_lenght','winter_lenght'],\n",
    "                            ['Spring lenght','Summer lenght','Autumn lenght','Winter lenght'],\n",
    "                            ['Greens', 'Purples','Oranges','Blues']):\n",
    "    \n",
    "    fig, ax, cbar = plot_map(tot, lenght, cmap, tot[lenght].min(), tot[lenght].max(), title)\n"
   ]
  },
  {
   "cell_type": "code",
   "execution_count": null,
   "metadata": {},
   "outputs": [],
   "source": [
    "tot"
   ]
  }
 ],
 "metadata": {
  "kernelspec": {
   "display_name": "CC_py",
   "language": "python",
   "name": "python3"
  },
  "language_info": {
   "codemirror_mode": {
    "name": "ipython",
    "version": 3
   },
   "file_extension": ".py",
   "mimetype": "text/x-python",
   "name": "python",
   "nbconvert_exporter": "python",
   "pygments_lexer": "ipython3",
   "version": "3.1.-1"
  }
 },
 "nbformat": 4,
 "nbformat_minor": 2
}
